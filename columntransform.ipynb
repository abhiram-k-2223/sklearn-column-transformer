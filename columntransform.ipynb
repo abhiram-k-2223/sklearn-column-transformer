{
  "nbformat": 4,
  "nbformat_minor": 0,
  "metadata": {
    "colab": {
      "provenance": []
    },
    "kernelspec": {
      "name": "python3",
      "display_name": "Python 3"
    },
    "language_info": {
      "name": "python"
    }
  },
  "cells": [
    {
      "cell_type": "code",
      "execution_count": null,
      "metadata": {
        "id": "dtiyjnYAbQHV"
      },
      "outputs": [],
      "source": [
        "import pandas as pd\n",
        "import numpy as np"
      ]
    },
    {
      "cell_type": "code",
      "source": [
        "df = pd.read_csv('/content/covid_toy.csv')\n",
        "df"
      ],
      "metadata": {
        "colab": {
          "base_uri": "https://localhost:8080/",
          "height": 423
        },
        "id": "HmnAqaymbTgu",
        "outputId": "38725dac-831a-436b-9714-bcae7cc331e7"
      },
      "execution_count": null,
      "outputs": [
        {
          "output_type": "execute_result",
          "data": {
            "text/plain": [
              "    age  gender  fever   cough       city has_covid\n",
              "0    60    Male  103.0    Mild    Kolkata        No\n",
              "1    27    Male  100.0    Mild      Delhi       Yes\n",
              "2    42    Male  101.0    Mild      Delhi        No\n",
              "3    31  Female   98.0    Mild    Kolkata        No\n",
              "4    65  Female  101.0    Mild     Mumbai        No\n",
              "..  ...     ...    ...     ...        ...       ...\n",
              "95   12  Female  104.0    Mild  Bangalore        No\n",
              "96   51  Female  101.0  Strong    Kolkata       Yes\n",
              "97   20  Female  101.0    Mild  Bangalore        No\n",
              "98    5  Female   98.0  Strong     Mumbai        No\n",
              "99   10  Female   98.0  Strong    Kolkata       Yes\n",
              "\n",
              "[100 rows x 6 columns]"
            ],
            "text/html": [
              "\n",
              "  <div id=\"df-490f61c9-d958-49a1-bf73-7c0938eb0e1b\" class=\"colab-df-container\">\n",
              "    <div>\n",
              "<style scoped>\n",
              "    .dataframe tbody tr th:only-of-type {\n",
              "        vertical-align: middle;\n",
              "    }\n",
              "\n",
              "    .dataframe tbody tr th {\n",
              "        vertical-align: top;\n",
              "    }\n",
              "\n",
              "    .dataframe thead th {\n",
              "        text-align: right;\n",
              "    }\n",
              "</style>\n",
              "<table border=\"1\" class=\"dataframe\">\n",
              "  <thead>\n",
              "    <tr style=\"text-align: right;\">\n",
              "      <th></th>\n",
              "      <th>age</th>\n",
              "      <th>gender</th>\n",
              "      <th>fever</th>\n",
              "      <th>cough</th>\n",
              "      <th>city</th>\n",
              "      <th>has_covid</th>\n",
              "    </tr>\n",
              "  </thead>\n",
              "  <tbody>\n",
              "    <tr>\n",
              "      <th>0</th>\n",
              "      <td>60</td>\n",
              "      <td>Male</td>\n",
              "      <td>103.0</td>\n",
              "      <td>Mild</td>\n",
              "      <td>Kolkata</td>\n",
              "      <td>No</td>\n",
              "    </tr>\n",
              "    <tr>\n",
              "      <th>1</th>\n",
              "      <td>27</td>\n",
              "      <td>Male</td>\n",
              "      <td>100.0</td>\n",
              "      <td>Mild</td>\n",
              "      <td>Delhi</td>\n",
              "      <td>Yes</td>\n",
              "    </tr>\n",
              "    <tr>\n",
              "      <th>2</th>\n",
              "      <td>42</td>\n",
              "      <td>Male</td>\n",
              "      <td>101.0</td>\n",
              "      <td>Mild</td>\n",
              "      <td>Delhi</td>\n",
              "      <td>No</td>\n",
              "    </tr>\n",
              "    <tr>\n",
              "      <th>3</th>\n",
              "      <td>31</td>\n",
              "      <td>Female</td>\n",
              "      <td>98.0</td>\n",
              "      <td>Mild</td>\n",
              "      <td>Kolkata</td>\n",
              "      <td>No</td>\n",
              "    </tr>\n",
              "    <tr>\n",
              "      <th>4</th>\n",
              "      <td>65</td>\n",
              "      <td>Female</td>\n",
              "      <td>101.0</td>\n",
              "      <td>Mild</td>\n",
              "      <td>Mumbai</td>\n",
              "      <td>No</td>\n",
              "    </tr>\n",
              "    <tr>\n",
              "      <th>...</th>\n",
              "      <td>...</td>\n",
              "      <td>...</td>\n",
              "      <td>...</td>\n",
              "      <td>...</td>\n",
              "      <td>...</td>\n",
              "      <td>...</td>\n",
              "    </tr>\n",
              "    <tr>\n",
              "      <th>95</th>\n",
              "      <td>12</td>\n",
              "      <td>Female</td>\n",
              "      <td>104.0</td>\n",
              "      <td>Mild</td>\n",
              "      <td>Bangalore</td>\n",
              "      <td>No</td>\n",
              "    </tr>\n",
              "    <tr>\n",
              "      <th>96</th>\n",
              "      <td>51</td>\n",
              "      <td>Female</td>\n",
              "      <td>101.0</td>\n",
              "      <td>Strong</td>\n",
              "      <td>Kolkata</td>\n",
              "      <td>Yes</td>\n",
              "    </tr>\n",
              "    <tr>\n",
              "      <th>97</th>\n",
              "      <td>20</td>\n",
              "      <td>Female</td>\n",
              "      <td>101.0</td>\n",
              "      <td>Mild</td>\n",
              "      <td>Bangalore</td>\n",
              "      <td>No</td>\n",
              "    </tr>\n",
              "    <tr>\n",
              "      <th>98</th>\n",
              "      <td>5</td>\n",
              "      <td>Female</td>\n",
              "      <td>98.0</td>\n",
              "      <td>Strong</td>\n",
              "      <td>Mumbai</td>\n",
              "      <td>No</td>\n",
              "    </tr>\n",
              "    <tr>\n",
              "      <th>99</th>\n",
              "      <td>10</td>\n",
              "      <td>Female</td>\n",
              "      <td>98.0</td>\n",
              "      <td>Strong</td>\n",
              "      <td>Kolkata</td>\n",
              "      <td>Yes</td>\n",
              "    </tr>\n",
              "  </tbody>\n",
              "</table>\n",
              "<p>100 rows × 6 columns</p>\n",
              "</div>\n",
              "    <div class=\"colab-df-buttons\">\n",
              "\n",
              "  <div class=\"colab-df-container\">\n",
              "    <button class=\"colab-df-convert\" onclick=\"convertToInteractive('df-490f61c9-d958-49a1-bf73-7c0938eb0e1b')\"\n",
              "            title=\"Convert this dataframe to an interactive table.\"\n",
              "            style=\"display:none;\">\n",
              "\n",
              "  <svg xmlns=\"http://www.w3.org/2000/svg\" height=\"24px\" viewBox=\"0 -960 960 960\">\n",
              "    <path d=\"M120-120v-720h720v720H120Zm60-500h600v-160H180v160Zm220 220h160v-160H400v160Zm0 220h160v-160H400v160ZM180-400h160v-160H180v160Zm440 0h160v-160H620v160ZM180-180h160v-160H180v160Zm440 0h160v-160H620v160Z\"/>\n",
              "  </svg>\n",
              "    </button>\n",
              "\n",
              "  <style>\n",
              "    .colab-df-container {\n",
              "      display:flex;\n",
              "      gap: 12px;\n",
              "    }\n",
              "\n",
              "    .colab-df-convert {\n",
              "      background-color: #E8F0FE;\n",
              "      border: none;\n",
              "      border-radius: 50%;\n",
              "      cursor: pointer;\n",
              "      display: none;\n",
              "      fill: #1967D2;\n",
              "      height: 32px;\n",
              "      padding: 0 0 0 0;\n",
              "      width: 32px;\n",
              "    }\n",
              "\n",
              "    .colab-df-convert:hover {\n",
              "      background-color: #E2EBFA;\n",
              "      box-shadow: 0px 1px 2px rgba(60, 64, 67, 0.3), 0px 1px 3px 1px rgba(60, 64, 67, 0.15);\n",
              "      fill: #174EA6;\n",
              "    }\n",
              "\n",
              "    .colab-df-buttons div {\n",
              "      margin-bottom: 4px;\n",
              "    }\n",
              "\n",
              "    [theme=dark] .colab-df-convert {\n",
              "      background-color: #3B4455;\n",
              "      fill: #D2E3FC;\n",
              "    }\n",
              "\n",
              "    [theme=dark] .colab-df-convert:hover {\n",
              "      background-color: #434B5C;\n",
              "      box-shadow: 0px 1px 3px 1px rgba(0, 0, 0, 0.15);\n",
              "      filter: drop-shadow(0px 1px 2px rgba(0, 0, 0, 0.3));\n",
              "      fill: #FFFFFF;\n",
              "    }\n",
              "  </style>\n",
              "\n",
              "    <script>\n",
              "      const buttonEl =\n",
              "        document.querySelector('#df-490f61c9-d958-49a1-bf73-7c0938eb0e1b button.colab-df-convert');\n",
              "      buttonEl.style.display =\n",
              "        google.colab.kernel.accessAllowed ? 'block' : 'none';\n",
              "\n",
              "      async function convertToInteractive(key) {\n",
              "        const element = document.querySelector('#df-490f61c9-d958-49a1-bf73-7c0938eb0e1b');\n",
              "        const dataTable =\n",
              "          await google.colab.kernel.invokeFunction('convertToInteractive',\n",
              "                                                    [key], {});\n",
              "        if (!dataTable) return;\n",
              "\n",
              "        const docLinkHtml = 'Like what you see? Visit the ' +\n",
              "          '<a target=\"_blank\" href=https://colab.research.google.com/notebooks/data_table.ipynb>data table notebook</a>'\n",
              "          + ' to learn more about interactive tables.';\n",
              "        element.innerHTML = '';\n",
              "        dataTable['output_type'] = 'display_data';\n",
              "        await google.colab.output.renderOutput(dataTable, element);\n",
              "        const docLink = document.createElement('div');\n",
              "        docLink.innerHTML = docLinkHtml;\n",
              "        element.appendChild(docLink);\n",
              "      }\n",
              "    </script>\n",
              "  </div>\n",
              "\n",
              "\n",
              "<div id=\"df-fa70bdce-be58-448c-a5cd-0172d8720687\">\n",
              "  <button class=\"colab-df-quickchart\" onclick=\"quickchart('df-fa70bdce-be58-448c-a5cd-0172d8720687')\"\n",
              "            title=\"Suggest charts\"\n",
              "            style=\"display:none;\">\n",
              "\n",
              "<svg xmlns=\"http://www.w3.org/2000/svg\" height=\"24px\"viewBox=\"0 0 24 24\"\n",
              "     width=\"24px\">\n",
              "    <g>\n",
              "        <path d=\"M19 3H5c-1.1 0-2 .9-2 2v14c0 1.1.9 2 2 2h14c1.1 0 2-.9 2-2V5c0-1.1-.9-2-2-2zM9 17H7v-7h2v7zm4 0h-2V7h2v10zm4 0h-2v-4h2v4z\"/>\n",
              "    </g>\n",
              "</svg>\n",
              "  </button>\n",
              "\n",
              "<style>\n",
              "  .colab-df-quickchart {\n",
              "      --bg-color: #E8F0FE;\n",
              "      --fill-color: #1967D2;\n",
              "      --hover-bg-color: #E2EBFA;\n",
              "      --hover-fill-color: #174EA6;\n",
              "      --disabled-fill-color: #AAA;\n",
              "      --disabled-bg-color: #DDD;\n",
              "  }\n",
              "\n",
              "  [theme=dark] .colab-df-quickchart {\n",
              "      --bg-color: #3B4455;\n",
              "      --fill-color: #D2E3FC;\n",
              "      --hover-bg-color: #434B5C;\n",
              "      --hover-fill-color: #FFFFFF;\n",
              "      --disabled-bg-color: #3B4455;\n",
              "      --disabled-fill-color: #666;\n",
              "  }\n",
              "\n",
              "  .colab-df-quickchart {\n",
              "    background-color: var(--bg-color);\n",
              "    border: none;\n",
              "    border-radius: 50%;\n",
              "    cursor: pointer;\n",
              "    display: none;\n",
              "    fill: var(--fill-color);\n",
              "    height: 32px;\n",
              "    padding: 0;\n",
              "    width: 32px;\n",
              "  }\n",
              "\n",
              "  .colab-df-quickchart:hover {\n",
              "    background-color: var(--hover-bg-color);\n",
              "    box-shadow: 0 1px 2px rgba(60, 64, 67, 0.3), 0 1px 3px 1px rgba(60, 64, 67, 0.15);\n",
              "    fill: var(--button-hover-fill-color);\n",
              "  }\n",
              "\n",
              "  .colab-df-quickchart-complete:disabled,\n",
              "  .colab-df-quickchart-complete:disabled:hover {\n",
              "    background-color: var(--disabled-bg-color);\n",
              "    fill: var(--disabled-fill-color);\n",
              "    box-shadow: none;\n",
              "  }\n",
              "\n",
              "  .colab-df-spinner {\n",
              "    border: 2px solid var(--fill-color);\n",
              "    border-color: transparent;\n",
              "    border-bottom-color: var(--fill-color);\n",
              "    animation:\n",
              "      spin 1s steps(1) infinite;\n",
              "  }\n",
              "\n",
              "  @keyframes spin {\n",
              "    0% {\n",
              "      border-color: transparent;\n",
              "      border-bottom-color: var(--fill-color);\n",
              "      border-left-color: var(--fill-color);\n",
              "    }\n",
              "    20% {\n",
              "      border-color: transparent;\n",
              "      border-left-color: var(--fill-color);\n",
              "      border-top-color: var(--fill-color);\n",
              "    }\n",
              "    30% {\n",
              "      border-color: transparent;\n",
              "      border-left-color: var(--fill-color);\n",
              "      border-top-color: var(--fill-color);\n",
              "      border-right-color: var(--fill-color);\n",
              "    }\n",
              "    40% {\n",
              "      border-color: transparent;\n",
              "      border-right-color: var(--fill-color);\n",
              "      border-top-color: var(--fill-color);\n",
              "    }\n",
              "    60% {\n",
              "      border-color: transparent;\n",
              "      border-right-color: var(--fill-color);\n",
              "    }\n",
              "    80% {\n",
              "      border-color: transparent;\n",
              "      border-right-color: var(--fill-color);\n",
              "      border-bottom-color: var(--fill-color);\n",
              "    }\n",
              "    90% {\n",
              "      border-color: transparent;\n",
              "      border-bottom-color: var(--fill-color);\n",
              "    }\n",
              "  }\n",
              "</style>\n",
              "\n",
              "  <script>\n",
              "    async function quickchart(key) {\n",
              "      const quickchartButtonEl =\n",
              "        document.querySelector('#' + key + ' button');\n",
              "      quickchartButtonEl.disabled = true;  // To prevent multiple clicks.\n",
              "      quickchartButtonEl.classList.add('colab-df-spinner');\n",
              "      try {\n",
              "        const charts = await google.colab.kernel.invokeFunction(\n",
              "            'suggestCharts', [key], {});\n",
              "      } catch (error) {\n",
              "        console.error('Error during call to suggestCharts:', error);\n",
              "      }\n",
              "      quickchartButtonEl.classList.remove('colab-df-spinner');\n",
              "      quickchartButtonEl.classList.add('colab-df-quickchart-complete');\n",
              "    }\n",
              "    (() => {\n",
              "      let quickchartButtonEl =\n",
              "        document.querySelector('#df-fa70bdce-be58-448c-a5cd-0172d8720687 button');\n",
              "      quickchartButtonEl.style.display =\n",
              "        google.colab.kernel.accessAllowed ? 'block' : 'none';\n",
              "    })();\n",
              "  </script>\n",
              "</div>\n",
              "\n",
              "  <div id=\"id_f1109fa6-58e8-4792-b852-50fcd4f9070b\">\n",
              "    <style>\n",
              "      .colab-df-generate {\n",
              "        background-color: #E8F0FE;\n",
              "        border: none;\n",
              "        border-radius: 50%;\n",
              "        cursor: pointer;\n",
              "        display: none;\n",
              "        fill: #1967D2;\n",
              "        height: 32px;\n",
              "        padding: 0 0 0 0;\n",
              "        width: 32px;\n",
              "      }\n",
              "\n",
              "      .colab-df-generate:hover {\n",
              "        background-color: #E2EBFA;\n",
              "        box-shadow: 0px 1px 2px rgba(60, 64, 67, 0.3), 0px 1px 3px 1px rgba(60, 64, 67, 0.15);\n",
              "        fill: #174EA6;\n",
              "      }\n",
              "\n",
              "      [theme=dark] .colab-df-generate {\n",
              "        background-color: #3B4455;\n",
              "        fill: #D2E3FC;\n",
              "      }\n",
              "\n",
              "      [theme=dark] .colab-df-generate:hover {\n",
              "        background-color: #434B5C;\n",
              "        box-shadow: 0px 1px 3px 1px rgba(0, 0, 0, 0.15);\n",
              "        filter: drop-shadow(0px 1px 2px rgba(0, 0, 0, 0.3));\n",
              "        fill: #FFFFFF;\n",
              "      }\n",
              "    </style>\n",
              "    <button class=\"colab-df-generate\" onclick=\"generateWithVariable('df')\"\n",
              "            title=\"Generate code using this dataframe.\"\n",
              "            style=\"display:none;\">\n",
              "\n",
              "  <svg xmlns=\"http://www.w3.org/2000/svg\" height=\"24px\"viewBox=\"0 0 24 24\"\n",
              "       width=\"24px\">\n",
              "    <path d=\"M7,19H8.4L18.45,9,17,7.55,7,17.6ZM5,21V16.75L18.45,3.32a2,2,0,0,1,2.83,0l1.4,1.43a1.91,1.91,0,0,1,.58,1.4,1.91,1.91,0,0,1-.58,1.4L9.25,21ZM18.45,9,17,7.55Zm-12,3A5.31,5.31,0,0,0,4.9,8.1,5.31,5.31,0,0,0,1,6.5,5.31,5.31,0,0,0,4.9,4.9,5.31,5.31,0,0,0,6.5,1,5.31,5.31,0,0,0,8.1,4.9,5.31,5.31,0,0,0,12,6.5,5.46,5.46,0,0,0,6.5,12Z\"/>\n",
              "  </svg>\n",
              "    </button>\n",
              "    <script>\n",
              "      (() => {\n",
              "      const buttonEl =\n",
              "        document.querySelector('#id_f1109fa6-58e8-4792-b852-50fcd4f9070b button.colab-df-generate');\n",
              "      buttonEl.style.display =\n",
              "        google.colab.kernel.accessAllowed ? 'block' : 'none';\n",
              "\n",
              "      buttonEl.onclick = () => {\n",
              "        google.colab.notebook.generateWithVariable('df');\n",
              "      }\n",
              "      })();\n",
              "    </script>\n",
              "  </div>\n",
              "\n",
              "    </div>\n",
              "  </div>\n"
            ],
            "application/vnd.google.colaboratory.intrinsic+json": {
              "type": "dataframe",
              "variable_name": "df",
              "summary": "{\n  \"name\": \"df\",\n  \"rows\": 100,\n  \"fields\": [\n    {\n      \"column\": \"age\",\n      \"properties\": {\n        \"dtype\": \"number\",\n        \"std\": 24,\n        \"min\": 5,\n        \"max\": 84,\n        \"num_unique_values\": 55,\n        \"samples\": [\n          55,\n          84,\n          49\n        ],\n        \"semantic_type\": \"\",\n        \"description\": \"\"\n      }\n    },\n    {\n      \"column\": \"gender\",\n      \"properties\": {\n        \"dtype\": \"category\",\n        \"num_unique_values\": 2,\n        \"samples\": [\n          \"Female\",\n          \"Male\"\n        ],\n        \"semantic_type\": \"\",\n        \"description\": \"\"\n      }\n    },\n    {\n      \"column\": \"fever\",\n      \"properties\": {\n        \"dtype\": \"number\",\n        \"std\": 2.0549261782367014,\n        \"min\": 98.0,\n        \"max\": 104.0,\n        \"num_unique_values\": 7,\n        \"samples\": [\n          103.0,\n          100.0\n        ],\n        \"semantic_type\": \"\",\n        \"description\": \"\"\n      }\n    },\n    {\n      \"column\": \"cough\",\n      \"properties\": {\n        \"dtype\": \"category\",\n        \"num_unique_values\": 2,\n        \"samples\": [\n          \"Strong\",\n          \"Mild\"\n        ],\n        \"semantic_type\": \"\",\n        \"description\": \"\"\n      }\n    },\n    {\n      \"column\": \"city\",\n      \"properties\": {\n        \"dtype\": \"category\",\n        \"num_unique_values\": 4,\n        \"samples\": [\n          \"Delhi\",\n          \"Bangalore\"\n        ],\n        \"semantic_type\": \"\",\n        \"description\": \"\"\n      }\n    },\n    {\n      \"column\": \"has_covid\",\n      \"properties\": {\n        \"dtype\": \"category\",\n        \"num_unique_values\": 2,\n        \"samples\": [\n          \"Yes\",\n          \"No\"\n        ],\n        \"semantic_type\": \"\",\n        \"description\": \"\"\n      }\n    }\n  ]\n}"
            }
          },
          "metadata": {},
          "execution_count": 13
        }
      ]
    },
    {
      "cell_type": "code",
      "source": [
        "df.isnull().sum()"
      ],
      "metadata": {
        "colab": {
          "base_uri": "https://localhost:8080/"
        },
        "id": "PD7DNtUVw-WA",
        "outputId": "00fd7459-c15a-402a-a589-f3356cf97dd3"
      },
      "execution_count": null,
      "outputs": [
        {
          "output_type": "execute_result",
          "data": {
            "text/plain": [
              "age           0\n",
              "gender        0\n",
              "fever        10\n",
              "cough         0\n",
              "city          0\n",
              "has_covid     0\n",
              "dtype: int64"
            ]
          },
          "metadata": {},
          "execution_count": 14
        }
      ]
    },
    {
      "cell_type": "code",
      "source": [
        "df.city.value_counts()"
      ],
      "metadata": {
        "id": "6sH1cZztde_O",
        "colab": {
          "base_uri": "https://localhost:8080/"
        },
        "outputId": "178949a1-13c3-4928-fe74-c55e4acf6d62"
      },
      "execution_count": null,
      "outputs": [
        {
          "output_type": "execute_result",
          "data": {
            "text/plain": [
              "city\n",
              "Kolkata      32\n",
              "Bangalore    30\n",
              "Delhi        22\n",
              "Mumbai       16\n",
              "Name: count, dtype: int64"
            ]
          },
          "metadata": {},
          "execution_count": 15
        }
      ]
    },
    {
      "cell_type": "code",
      "source": [
        "from sklearn.model_selection import train_test_split\n",
        "\n",
        "x_train,x_test,y_train,y_test = train_test_split(df.drop(columns=['has_covid']),df['has_covid'],\n",
        "                                                test_size=0.2)"
      ],
      "metadata": {
        "id": "9Nu6oz-jxR66"
      },
      "execution_count": null,
      "outputs": []
    },
    {
      "cell_type": "code",
      "source": [
        "x_train.shape"
      ],
      "metadata": {
        "colab": {
          "base_uri": "https://localhost:8080/"
        },
        "id": "lwEd0IXBxmdm",
        "outputId": "2f954e16-b8d7-41d3-e4dd-4269f9df9684"
      },
      "execution_count": null,
      "outputs": [
        {
          "output_type": "execute_result",
          "data": {
            "text/plain": [
              "(80, 5)"
            ]
          },
          "metadata": {},
          "execution_count": 17
        }
      ]
    },
    {
      "cell_type": "code",
      "source": [
        "df.cough.value_counts()"
      ],
      "metadata": {
        "colab": {
          "base_uri": "https://localhost:8080/"
        },
        "id": "6ztNahyrwT6w",
        "outputId": "d2d746f0-5e8f-4fba-a465-20937e0d0cf1"
      },
      "execution_count": null,
      "outputs": [
        {
          "output_type": "execute_result",
          "data": {
            "text/plain": [
              "cough\n",
              "Mild      62\n",
              "Strong    38\n",
              "Name: count, dtype: int64"
            ]
          },
          "metadata": {},
          "execution_count": 18
        }
      ]
    },
    {
      "cell_type": "markdown",
      "source": [
        "# Ordinary Approach to imputing missing values, encoding nominal categorical values with OneHotEncoder, ordinal categorical values with OrdinalEncoder and Lables with LabelEncoder"
      ],
      "metadata": {
        "id": "3GF2tMkp7Zh_"
      }
    },
    {
      "cell_type": "code",
      "source": [
        "from sklearn.impute import SimpleImputer\n",
        "from sklearn.preprocessing import OneHotEncoder\n",
        "from sklearn.preprocessing import LabelEncoder\n",
        "from sklearn.preprocessing import OrdinalEncoder"
      ],
      "metadata": {
        "id": "A1McKTpHwXCw"
      },
      "execution_count": null,
      "outputs": []
    },
    {
      "cell_type": "code",
      "source": [
        "si = SimpleImputer()"
      ],
      "metadata": {
        "id": "DAWNQ1r8w1Ol"
      },
      "execution_count": null,
      "outputs": []
    },
    {
      "cell_type": "code",
      "source": [
        "x_train_fever = si.fit_transform(x_train[['fever']])\n",
        "x_test_fever = si.transform(x_test[['fever']])\n",
        "\n",
        "x_test_fever"
      ],
      "metadata": {
        "colab": {
          "base_uri": "https://localhost:8080/"
        },
        "id": "z7Q8RdBLxNzt",
        "outputId": "30a3e608-f94a-47bc-b654-741487e7679d"
      },
      "execution_count": null,
      "outputs": [
        {
          "output_type": "execute_result",
          "data": {
            "text/plain": [
              "array([[100.        ],\n",
              "       [100.        ],\n",
              "       [103.        ],\n",
              "       [100.        ],\n",
              "       [100.        ],\n",
              "       [100.        ],\n",
              "       [101.        ],\n",
              "       [102.        ],\n",
              "       [ 98.        ],\n",
              "       [ 98.        ],\n",
              "       [101.08333333],\n",
              "       [ 99.        ],\n",
              "       [101.        ],\n",
              "       [101.        ],\n",
              "       [101.08333333],\n",
              "       [ 98.        ],\n",
              "       [100.        ],\n",
              "       [ 98.        ],\n",
              "       [101.        ],\n",
              "       [ 98.        ]])"
            ]
          },
          "metadata": {},
          "execution_count": 21
        }
      ]
    },
    {
      "cell_type": "code",
      "source": [
        "from sklearn.preprocessing import OneHotEncoder\n",
        "ohe = OneHotEncoder(drop='first',sparse_output = False)\n",
        "\n",
        "x_train_gender_city = ohe.fit_transform(x_train[['gender','city']])\n",
        "x_test_gender_city = ohe.transform(x_test[['gender','city']])\n",
        "\n",
        "x_train_gender_city.shape"
      ],
      "metadata": {
        "colab": {
          "base_uri": "https://localhost:8080/"
        },
        "id": "xXn2w9IVx_XJ",
        "outputId": "de79f8bf-9afd-412b-dc21-20826b21d3f7"
      },
      "execution_count": null,
      "outputs": [
        {
          "output_type": "execute_result",
          "data": {
            "text/plain": [
              "(80, 4)"
            ]
          },
          "metadata": {},
          "execution_count": 22
        }
      ]
    },
    {
      "cell_type": "code",
      "source": [
        "oe = OrdinalEncoder(categories=[['Mild','Strong']])\n",
        "\n",
        "x_train_cough = oe.fit_transform(x_train[['cough']])\n",
        "x_test_cough = oe.transform(x_test[['cough']])\n",
        "\n",
        "x_test_cough"
      ],
      "metadata": {
        "colab": {
          "base_uri": "https://localhost:8080/"
        },
        "id": "yUD_8Elf1QuN",
        "outputId": "b254f0ac-3f77-417c-fc1e-7308f7d10358"
      },
      "execution_count": null,
      "outputs": [
        {
          "output_type": "execute_result",
          "data": {
            "text/plain": [
              "array([[0.],\n",
              "       [0.],\n",
              "       [0.],\n",
              "       [0.],\n",
              "       [1.],\n",
              "       [0.],\n",
              "       [0.],\n",
              "       [0.],\n",
              "       [1.],\n",
              "       [0.],\n",
              "       [0.],\n",
              "       [1.],\n",
              "       [0.],\n",
              "       [1.],\n",
              "       [0.],\n",
              "       [0.],\n",
              "       [0.],\n",
              "       [1.],\n",
              "       [1.],\n",
              "       [0.]])"
            ]
          },
          "metadata": {},
          "execution_count": 36
        }
      ]
    },
    {
      "cell_type": "code",
      "source": [
        "le = LabelEncoder()\n",
        "le.fit(y_train)\n",
        "le.fit(y_test)"
      ],
      "metadata": {
        "colab": {
          "base_uri": "https://localhost:8080/",
          "height": 74
        },
        "id": "KZ9uusA62v1e",
        "outputId": "a4b89792-d8ca-4cd6-ce30-b0d11c8723e7"
      },
      "execution_count": null,
      "outputs": [
        {
          "output_type": "execute_result",
          "data": {
            "text/plain": [
              "LabelEncoder()"
            ],
            "text/html": [
              "<style>#sk-container-id-1 {color: black;background-color: white;}#sk-container-id-1 pre{padding: 0;}#sk-container-id-1 div.sk-toggleable {background-color: white;}#sk-container-id-1 label.sk-toggleable__label {cursor: pointer;display: block;width: 100%;margin-bottom: 0;padding: 0.3em;box-sizing: border-box;text-align: center;}#sk-container-id-1 label.sk-toggleable__label-arrow:before {content: \"▸\";float: left;margin-right: 0.25em;color: #696969;}#sk-container-id-1 label.sk-toggleable__label-arrow:hover:before {color: black;}#sk-container-id-1 div.sk-estimator:hover label.sk-toggleable__label-arrow:before {color: black;}#sk-container-id-1 div.sk-toggleable__content {max-height: 0;max-width: 0;overflow: hidden;text-align: left;background-color: #f0f8ff;}#sk-container-id-1 div.sk-toggleable__content pre {margin: 0.2em;color: black;border-radius: 0.25em;background-color: #f0f8ff;}#sk-container-id-1 input.sk-toggleable__control:checked~div.sk-toggleable__content {max-height: 200px;max-width: 100%;overflow: auto;}#sk-container-id-1 input.sk-toggleable__control:checked~label.sk-toggleable__label-arrow:before {content: \"▾\";}#sk-container-id-1 div.sk-estimator input.sk-toggleable__control:checked~label.sk-toggleable__label {background-color: #d4ebff;}#sk-container-id-1 div.sk-label input.sk-toggleable__control:checked~label.sk-toggleable__label {background-color: #d4ebff;}#sk-container-id-1 input.sk-hidden--visually {border: 0;clip: rect(1px 1px 1px 1px);clip: rect(1px, 1px, 1px, 1px);height: 1px;margin: -1px;overflow: hidden;padding: 0;position: absolute;width: 1px;}#sk-container-id-1 div.sk-estimator {font-family: monospace;background-color: #f0f8ff;border: 1px dotted black;border-radius: 0.25em;box-sizing: border-box;margin-bottom: 0.5em;}#sk-container-id-1 div.sk-estimator:hover {background-color: #d4ebff;}#sk-container-id-1 div.sk-parallel-item::after {content: \"\";width: 100%;border-bottom: 1px solid gray;flex-grow: 1;}#sk-container-id-1 div.sk-label:hover label.sk-toggleable__label {background-color: #d4ebff;}#sk-container-id-1 div.sk-serial::before {content: \"\";position: absolute;border-left: 1px solid gray;box-sizing: border-box;top: 0;bottom: 0;left: 50%;z-index: 0;}#sk-container-id-1 div.sk-serial {display: flex;flex-direction: column;align-items: center;background-color: white;padding-right: 0.2em;padding-left: 0.2em;position: relative;}#sk-container-id-1 div.sk-item {position: relative;z-index: 1;}#sk-container-id-1 div.sk-parallel {display: flex;align-items: stretch;justify-content: center;background-color: white;position: relative;}#sk-container-id-1 div.sk-item::before, #sk-container-id-1 div.sk-parallel-item::before {content: \"\";position: absolute;border-left: 1px solid gray;box-sizing: border-box;top: 0;bottom: 0;left: 50%;z-index: -1;}#sk-container-id-1 div.sk-parallel-item {display: flex;flex-direction: column;z-index: 1;position: relative;background-color: white;}#sk-container-id-1 div.sk-parallel-item:first-child::after {align-self: flex-end;width: 50%;}#sk-container-id-1 div.sk-parallel-item:last-child::after {align-self: flex-start;width: 50%;}#sk-container-id-1 div.sk-parallel-item:only-child::after {width: 0;}#sk-container-id-1 div.sk-dashed-wrapped {border: 1px dashed gray;margin: 0 0.4em 0.5em 0.4em;box-sizing: border-box;padding-bottom: 0.4em;background-color: white;}#sk-container-id-1 div.sk-label label {font-family: monospace;font-weight: bold;display: inline-block;line-height: 1.2em;}#sk-container-id-1 div.sk-label-container {text-align: center;}#sk-container-id-1 div.sk-container {/* jupyter's `normalize.less` sets `[hidden] { display: none; }` but bootstrap.min.css set `[hidden] { display: none !important; }` so we also need the `!important` here to be able to override the default hidden behavior on the sphinx rendered scikit-learn.org. See: https://github.com/scikit-learn/scikit-learn/issues/21755 */display: inline-block !important;position: relative;}#sk-container-id-1 div.sk-text-repr-fallback {display: none;}</style><div id=\"sk-container-id-1\" class=\"sk-top-container\"><div class=\"sk-text-repr-fallback\"><pre>LabelEncoder()</pre><b>In a Jupyter environment, please rerun this cell to show the HTML representation or trust the notebook. <br />On GitHub, the HTML representation is unable to render, please try loading this page with nbviewer.org.</b></div><div class=\"sk-container\" hidden><div class=\"sk-item\"><div class=\"sk-estimator sk-toggleable\"><input class=\"sk-toggleable__control sk-hidden--visually\" id=\"sk-estimator-id-1\" type=\"checkbox\" checked><label for=\"sk-estimator-id-1\" class=\"sk-toggleable__label sk-toggleable__label-arrow\">LabelEncoder</label><div class=\"sk-toggleable__content\"><pre>LabelEncoder()</pre></div></div></div></div></div>"
            ]
          },
          "metadata": {},
          "execution_count": 24
        }
      ]
    },
    {
      "cell_type": "code",
      "source": [
        "le.classes_\n"
      ],
      "metadata": {
        "colab": {
          "base_uri": "https://localhost:8080/"
        },
        "id": "21XAC4dw5vQk",
        "outputId": "402df63e-c0d2-4438-b9fe-23aa4aa23472"
      },
      "execution_count": null,
      "outputs": [
        {
          "output_type": "execute_result",
          "data": {
            "text/plain": [
              "array(['No', 'Yes'], dtype=object)"
            ]
          },
          "metadata": {},
          "execution_count": 25
        }
      ]
    },
    {
      "cell_type": "code",
      "source": [
        "y_train = le.transform(y_train)\n",
        "y_test = le.transform(y_test)"
      ],
      "metadata": {
        "id": "TUxRQjiH5yb5"
      },
      "execution_count": null,
      "outputs": []
    },
    {
      "cell_type": "code",
      "source": [
        "y_train"
      ],
      "metadata": {
        "colab": {
          "base_uri": "https://localhost:8080/"
        },
        "id": "m1YsuS-t512w",
        "outputId": "28f09111-e20f-44a9-aaff-35dbab03bfda"
      },
      "execution_count": null,
      "outputs": [
        {
          "output_type": "execute_result",
          "data": {
            "text/plain": [
              "array([1, 1, 1, 1, 0, 0, 1, 0, 0, 1, 0, 1, 0, 0, 1, 0, 1, 0, 0, 0, 0, 1,\n",
              "       0, 1, 0, 0, 1, 0, 1, 0, 0, 1, 0, 0, 0, 1, 0, 0, 1, 0, 0, 0, 1, 1,\n",
              "       0, 1, 0, 0, 0, 0, 1, 1, 1, 0, 0, 1, 0, 0, 1, 1, 0, 1, 0, 1, 1, 1,\n",
              "       0, 0, 0, 1, 1, 1, 0, 0, 1, 1, 0, 1, 0, 0])"
            ]
          },
          "metadata": {},
          "execution_count": 27
        }
      ]
    },
    {
      "cell_type": "code",
      "source": [
        "x_train_age = x_train.drop(columns = ['gender','age','cough','city'])\n",
        "x_test_age = x_test.drop(columns = ['gender','age','cough','city'])"
      ],
      "metadata": {
        "id": "xuYgotiD54pe"
      },
      "execution_count": null,
      "outputs": []
    },
    {
      "cell_type": "code",
      "source": [
        "x_train_transformed = np.concatenate((x_train_age,x_train_gender_city,x_train_cough),axis = 1)\n",
        "x_test_transformed = np.concatenate((x_test_age,x_test_gender_city,x_test_cough),axis = 1)"
      ],
      "metadata": {
        "id": "6FaJfQNv45_a"
      },
      "execution_count": null,
      "outputs": []
    },
    {
      "cell_type": "markdown",
      "source": [
        "# Using ColumnTransformer to minimize work time"
      ],
      "metadata": {
        "id": "-9CEIHr98KEH"
      }
    },
    {
      "cell_type": "code",
      "source": [
        "from sklearn.compose import ColumnTransformer\n",
        "\n"
      ],
      "metadata": {
        "id": "95fIa7IV5v4N"
      },
      "execution_count": null,
      "outputs": []
    },
    {
      "cell_type": "code",
      "source": [
        "transform = ColumnTransformer(transformers=[\n",
        "    ('tnf1',SimpleImputer(),['fever']),\n",
        "    ('tnf2',OrdinalEncoder(categories=[['Mild','Strong']]),['cough']),\n",
        "    ('tnf3',OneHotEncoder(drop='first',sparse_output = False),['gender','city']),\n",
        "],remainder='passthrough')"
      ],
      "metadata": {
        "id": "eZEcX0Lv8HCl"
      },
      "execution_count": null,
      "outputs": []
    },
    {
      "cell_type": "code",
      "source": [
        "x_train_new = transform.fit_transform(x_train)"
      ],
      "metadata": {
        "id": "2vdxi5gx-Bqq"
      },
      "execution_count": null,
      "outputs": []
    },
    {
      "cell_type": "code",
      "source": [
        "x_train_new"
      ],
      "metadata": {
        "colab": {
          "base_uri": "https://localhost:8080/"
        },
        "id": "CoOXVBV5-Pvu",
        "outputId": "35e1e0d1-b9e9-4f7e-dbf0-66c7e147a5e6"
      },
      "execution_count": null,
      "outputs": [
        {
          "output_type": "execute_result",
          "data": {
            "text/plain": [
              "array([[100.        ,   1.        ,   0.        ,   0.        ,\n",
              "          1.        ,   0.        ,  11.        ],\n",
              "       [104.        ,   1.        ,   0.        ,   0.        ,\n",
              "          0.        ,   0.        ,  56.        ],\n",
              "       [101.        ,   1.        ,   0.        ,   0.        ,\n",
              "          1.        ,   0.        ,  51.        ],\n",
              "       [102.        ,   0.        ,   1.        ,   0.        ,\n",
              "          0.        ,   1.        ,  74.        ],\n",
              "       [104.        ,   0.        ,   1.        ,   0.        ,\n",
              "          1.        ,   0.        ,  51.        ],\n",
              "       [102.        ,   1.        ,   0.        ,   0.        ,\n",
              "          0.        ,   0.        ,  82.        ],\n",
              "       [100.        ,   0.        ,   1.        ,   0.        ,\n",
              "          0.        ,   0.        ,  80.        ],\n",
              "       [ 98.        ,   1.        ,   0.        ,   0.        ,\n",
              "          0.        ,   1.        ,  81.        ],\n",
              "       [104.        ,   1.        ,   0.        ,   0.        ,\n",
              "          1.        ,   0.        ,  54.        ],\n",
              "       [ 98.        ,   0.        ,   0.        ,   0.        ,\n",
              "          0.        ,   0.        ,  64.        ],\n",
              "       [ 98.        ,   1.        ,   0.        ,   0.        ,\n",
              "          0.        ,   1.        ,  69.        ],\n",
              "       [101.08333333,   1.        ,   0.        ,   0.        ,\n",
              "          0.        ,   1.        ,  20.        ],\n",
              "       [103.        ,   0.        ,   0.        ,   0.        ,\n",
              "          1.        ,   0.        ,  50.        ],\n",
              "       [ 98.        ,   1.        ,   0.        ,   1.        ,\n",
              "          0.        ,   0.        ,  40.        ],\n",
              "       [ 98.        ,   1.        ,   0.        ,   0.        ,\n",
              "          1.        ,   0.        ,  71.        ],\n",
              "       [ 99.        ,   1.        ,   0.        ,   0.        ,\n",
              "          1.        ,   0.        ,  25.        ],\n",
              "       [ 98.        ,   0.        ,   0.        ,   0.        ,\n",
              "          0.        ,   1.        ,  65.        ],\n",
              "       [ 98.        ,   0.        ,   0.        ,   0.        ,\n",
              "          1.        ,   0.        ,  26.        ],\n",
              "       [101.08333333,   1.        ,   1.        ,   0.        ,\n",
              "          1.        ,   0.        ,  71.        ],\n",
              "       [101.        ,   0.        ,   0.        ,   1.        ,\n",
              "          0.        ,   0.        ,  64.        ],\n",
              "       [101.        ,   1.        ,   0.        ,   1.        ,\n",
              "          0.        ,   0.        ,  68.        ],\n",
              "       [101.        ,   0.        ,   0.        ,   0.        ,\n",
              "          0.        ,   1.        ,  81.        ],\n",
              "       [103.        ,   0.        ,   0.        ,   1.        ,\n",
              "          0.        ,   0.        ,  73.        ],\n",
              "       [101.08333333,   1.        ,   1.        ,   0.        ,\n",
              "          1.        ,   0.        ,  79.        ],\n",
              "       [101.        ,   0.        ,   0.        ,   0.        ,\n",
              "          0.        ,   1.        ,  65.        ],\n",
              "       [102.        ,   1.        ,   1.        ,   1.        ,\n",
              "          0.        ,   0.        ,  20.        ],\n",
              "       [101.08333333,   1.        ,   0.        ,   0.        ,\n",
              "          0.        ,   1.        ,  34.        ],\n",
              "       [ 99.        ,   0.        ,   1.        ,   0.        ,\n",
              "          0.        ,   0.        ,  65.        ],\n",
              "       [104.        ,   0.        ,   1.        ,   0.        ,\n",
              "          0.        ,   0.        ,  25.        ],\n",
              "       [104.        ,   0.        ,   0.        ,   0.        ,\n",
              "          0.        ,   0.        ,  18.        ],\n",
              "       [104.        ,   0.        ,   1.        ,   0.        ,\n",
              "          0.        ,   1.        ,  44.        ],\n",
              "       [103.        ,   0.        ,   0.        ,   0.        ,\n",
              "          1.        ,   0.        ,  69.        ],\n",
              "       [102.        ,   1.        ,   0.        ,   1.        ,\n",
              "          0.        ,   0.        ,  33.        ],\n",
              "       [ 99.        ,   0.        ,   1.        ,   1.        ,\n",
              "          0.        ,   0.        ,  65.        ],\n",
              "       [101.        ,   1.        ,   1.        ,   0.        ,\n",
              "          0.        ,   0.        ,  47.        ],\n",
              "       [ 98.        ,   1.        ,   1.        ,   0.        ,\n",
              "          0.        ,   1.        ,  23.        ],\n",
              "       [101.        ,   0.        ,   0.        ,   0.        ,\n",
              "          1.        ,   0.        ,  83.        ],\n",
              "       [100.        ,   1.        ,   0.        ,   0.        ,\n",
              "          1.        ,   0.        ,  13.        ],\n",
              "       [ 99.        ,   0.        ,   0.        ,   0.        ,\n",
              "          0.        ,   1.        ,  60.        ],\n",
              "       [104.        ,   0.        ,   1.        ,   0.        ,\n",
              "          0.        ,   0.        ,  51.        ],\n",
              "       [104.        ,   0.        ,   0.        ,   0.        ,\n",
              "          0.        ,   0.        ,  12.        ],\n",
              "       [101.        ,   0.        ,   1.        ,   1.        ,\n",
              "          0.        ,   0.        ,  42.        ],\n",
              "       [ 98.        ,   1.        ,   0.        ,   0.        ,\n",
              "          1.        ,   0.        ,  10.        ],\n",
              "       [100.        ,   0.        ,   1.        ,   0.        ,\n",
              "          0.        ,   0.        ,  11.        ],\n",
              "       [101.        ,   0.        ,   0.        ,   0.        ,\n",
              "          0.        ,   1.        ,  19.        ],\n",
              "       [101.08333333,   0.        ,   1.        ,   0.        ,\n",
              "          1.        ,   0.        ,  82.        ],\n",
              "       [103.        ,   0.        ,   1.        ,   0.        ,\n",
              "          1.        ,   0.        ,  60.        ],\n",
              "       [101.08333333,   0.        ,   1.        ,   0.        ,\n",
              "          0.        ,   1.        ,  23.        ],\n",
              "       [101.        ,   0.        ,   0.        ,   0.        ,\n",
              "          0.        ,   0.        ,  38.        ],\n",
              "       [ 98.        ,   0.        ,   0.        ,   0.        ,\n",
              "          1.        ,   0.        ,  31.        ],\n",
              "       [101.08333333,   0.        ,   1.        ,   1.        ,\n",
              "          0.        ,   0.        ,  38.        ],\n",
              "       [102.        ,   1.        ,   0.        ,   0.        ,\n",
              "          0.        ,   0.        ,  24.        ],\n",
              "       [102.        ,   0.        ,   1.        ,   0.        ,\n",
              "          0.        ,   0.        ,  64.        ],\n",
              "       [100.        ,   0.        ,   1.        ,   0.        ,\n",
              "          1.        ,   0.        ,  55.        ],\n",
              "       [104.        ,   1.        ,   0.        ,   1.        ,\n",
              "          0.        ,   0.        ,  34.        ],\n",
              "       [ 99.        ,   0.        ,   0.        ,   0.        ,\n",
              "          0.        ,   0.        ,  22.        ],\n",
              "       [104.        ,   1.        ,   0.        ,   1.        ,\n",
              "          0.        ,   0.        ,  75.        ],\n",
              "       [104.        ,   0.        ,   1.        ,   0.        ,\n",
              "          0.        ,   1.        ,  42.        ],\n",
              "       [101.08333333,   1.        ,   0.        ,   0.        ,\n",
              "          0.        ,   0.        ,  42.        ],\n",
              "       [104.        ,   0.        ,   0.        ,   0.        ,\n",
              "          1.        ,   0.        ,   6.        ],\n",
              "       [104.        ,   0.        ,   1.        ,   0.        ,\n",
              "          1.        ,   0.        ,  16.        ],\n",
              "       [100.        ,   1.        ,   0.        ,   0.        ,\n",
              "          0.        ,   0.        ,  47.        ],\n",
              "       [101.        ,   0.        ,   0.        ,   0.        ,\n",
              "          0.        ,   0.        ,  20.        ],\n",
              "       [102.        ,   0.        ,   1.        ,   0.        ,\n",
              "          1.        ,   0.        ,   5.        ],\n",
              "       [101.        ,   0.        ,   1.        ,   1.        ,\n",
              "          0.        ,   0.        ,  15.        ],\n",
              "       [103.        ,   0.        ,   0.        ,   0.        ,\n",
              "          1.        ,   0.        ,  48.        ],\n",
              "       [ 98.        ,   1.        ,   1.        ,   0.        ,\n",
              "          0.        ,   0.        ,  12.        ],\n",
              "       [104.        ,   0.        ,   0.        ,   0.        ,\n",
              "          1.        ,   0.        ,  17.        ],\n",
              "       [ 99.        ,   1.        ,   1.        ,   0.        ,\n",
              "          0.        ,   0.        ,  66.        ],\n",
              "       [103.        ,   0.        ,   0.        ,   0.        ,\n",
              "          0.        ,   0.        ,  16.        ],\n",
              "       [103.        ,   1.        ,   1.        ,   0.        ,\n",
              "          1.        ,   0.        ,  70.        ],\n",
              "       [100.        ,   0.        ,   1.        ,   1.        ,\n",
              "          0.        ,   0.        ,  27.        ],\n",
              "       [ 99.        ,   1.        ,   0.        ,   1.        ,\n",
              "          0.        ,   0.        ,  59.        ],\n",
              "       [ 99.        ,   0.        ,   1.        ,   0.        ,\n",
              "          0.        ,   0.        ,  72.        ],\n",
              "       [ 98.        ,   0.        ,   1.        ,   0.        ,\n",
              "          0.        ,   0.        ,  73.        ],\n",
              "       [ 99.        ,   0.        ,   0.        ,   0.        ,\n",
              "          0.        ,   1.        ,  14.        ],\n",
              "       [102.        ,   0.        ,   0.        ,   0.        ,\n",
              "          0.        ,   0.        ,  69.        ],\n",
              "       [101.        ,   0.        ,   0.        ,   1.        ,\n",
              "          0.        ,   0.        ,  49.        ],\n",
              "       [102.        ,   1.        ,   0.        ,   0.        ,\n",
              "          1.        ,   0.        ,  82.        ],\n",
              "       [103.        ,   1.        ,   1.        ,   0.        ,\n",
              "          0.        ,   0.        ,  46.        ]])"
            ]
          },
          "metadata": {},
          "execution_count": 42
        }
      ]
    },
    {
      "cell_type": "code",
      "source": [
        "x_test_new = transform.transform(x_test)"
      ],
      "metadata": {
        "id": "h1u7qIPH-RSM"
      },
      "execution_count": null,
      "outputs": []
    },
    {
      "cell_type": "code",
      "source": [
        "x_test_new\n"
      ],
      "metadata": {
        "colab": {
          "base_uri": "https://localhost:8080/"
        },
        "id": "edZD8azu-Z7q",
        "outputId": "6dc875a1-9393-4824-e1e5-b128b4a50e6a"
      },
      "execution_count": null,
      "outputs": [
        {
          "output_type": "execute_result",
          "data": {
            "text/plain": [
              "array([[100.        ,   0.        ,   0.        ,   0.        ,\n",
              "          1.        ,   0.        ,   5.        ],\n",
              "       [100.        ,   0.        ,   1.        ,   1.        ,\n",
              "          0.        ,   0.        ,  27.        ],\n",
              "       [103.        ,   0.        ,   1.        ,   0.        ,\n",
              "          1.        ,   0.        ,  83.        ],\n",
              "       [100.        ,   0.        ,   0.        ,   0.        ,\n",
              "          1.        ,   0.        ,  19.        ],\n",
              "       [100.        ,   1.        ,   0.        ,   0.        ,\n",
              "          0.        ,   0.        ,  19.        ],\n",
              "       [100.        ,   0.        ,   1.        ,   0.        ,\n",
              "          1.        ,   0.        ,  27.        ],\n",
              "       [101.        ,   0.        ,   0.        ,   0.        ,\n",
              "          1.        ,   0.        ,   8.        ],\n",
              "       [102.        ,   0.        ,   0.        ,   1.        ,\n",
              "          0.        ,   0.        ,  49.        ],\n",
              "       [ 98.        ,   1.        ,   0.        ,   0.        ,\n",
              "          0.        ,   1.        ,   5.        ],\n",
              "       [ 98.        ,   0.        ,   1.        ,   0.        ,\n",
              "          1.        ,   0.        ,  24.        ],\n",
              "       [101.08333333,   0.        ,   0.        ,   1.        ,\n",
              "          0.        ,   0.        ,  75.        ],\n",
              "       [ 99.        ,   1.        ,   0.        ,   0.        ,\n",
              "          0.        ,   0.        ,  49.        ],\n",
              "       [101.        ,   0.        ,   1.        ,   1.        ,\n",
              "          0.        ,   0.        ,  19.        ],\n",
              "       [101.        ,   1.        ,   1.        ,   0.        ,\n",
              "          0.        ,   0.        ,  14.        ],\n",
              "       [101.08333333,   0.        ,   0.        ,   0.        ,\n",
              "          0.        ,   0.        ,  84.        ],\n",
              "       [ 98.        ,   0.        ,   0.        ,   1.        ,\n",
              "          0.        ,   0.        ,  80.        ],\n",
              "       [100.        ,   0.        ,   1.        ,   0.        ,\n",
              "          0.        ,   0.        ,  10.        ],\n",
              "       [ 98.        ,   1.        ,   1.        ,   0.        ,\n",
              "          1.        ,   0.        ,  34.        ],\n",
              "       [101.        ,   1.        ,   0.        ,   1.        ,\n",
              "          0.        ,   0.        ,  34.        ],\n",
              "       [ 98.        ,   0.        ,   1.        ,   1.        ,\n",
              "          0.        ,   0.        ,  83.        ]])"
            ]
          },
          "metadata": {},
          "execution_count": 44
        }
      ]
    }
  ]
}